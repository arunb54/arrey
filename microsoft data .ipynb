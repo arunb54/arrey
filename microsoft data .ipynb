{
 "cells": [
  {
   "cell_type": "code",
   "execution_count": 1,
   "metadata": {
    "scrolled": true
   },
   "outputs": [
    {
     "name": "stdout",
     "output_type": "stream",
     "text": [
      "confussion matrix =\n",
      " [[4255 1886]\n",
      " [3222 3137]]\n",
      "f1_score = 0.5512212264979792\n"
     ]
    },
    {
     "data": {
      "text/plain": [
       "0.6360045918862388"
      ]
     },
     "execution_count": 1,
     "metadata": {},
     "output_type": "execute_result"
    }
   ],
   "source": [
    "import pandas as pd\n",
    "import warnings\n",
    "warnings.simplefilter('ignore')\n",
    "from sklearn.model_selection import train_test_split\n",
    "from sklearn.preprocessing import LabelEncoder,OneHotEncoder\n",
    "from sklearn.preprocessing import MinMaxScaler,StandardScaler\n",
    "import numpy as np\n",
    "from sklearn.ensemble import RandomForestClassifier\n",
    "from sklearn.metrics import confusion_matrix,f1_score,precision_score,accuracy_score\n",
    "from sklearn.metrics import roc_curve,auc\n",
    "import matplotlib.pyplot as plt\n",
    "\n",
    "micro=pd.read_csv('micro_train.csv')\n",
    "\n",
    "\n",
    "micro.drop(columns=['MachineIdentifier',\"OsBuildLab\"],axis=1,inplace=True)\n",
    "for col in micro.columns:\n",
    "    if micro[col].isnull().sum() > 30000:\n",
    "        micro.drop(col,axis=1,inplace=True)\n",
    "\n",
    "y=micro['HasDetections']\n",
    "\n",
    "\n",
    "micro.drop(['HasDetections'],axis=1,inplace=True)\n",
    "\n",
    "\n",
    "cat_list=[]\n",
    "con_list=[]\n",
    "\n",
    "for col in micro.columns:\n",
    "    if micro[col].dtype == 'int64' or micro[col].dtype == 'float64':\n",
    "        con_list.append(col)\n",
    "    else:\n",
    "        cat_list.append(col)\n",
    "\n",
    "for col in micro[cat_list].columns:\n",
    "    micro[col].fillna(value=micro[col].mode()[0],inplace=True)\n",
    "    \n",
    "for col in micro[con_list].columns:\n",
    "    micro[col].fillna(value=micro[col].median(),inplace=True)\n",
    "\n",
    "\n",
    "\"\"\"from statsmodels.stats.outliers_influence import variance_inflation_factor\n",
    "vif = [[con_list[i],variance_inflation_factor(micro[con_list].values, i)] for i in range(micro[con_list].shape[1])]\n",
    "\n",
    "drop_col=[]\n",
    "for i in vif:\n",
    "    if i[1] > 20:\n",
    "        drop_col.append(i[0])\n",
    "        \n",
    "print(drop_col)\n",
    "\n",
    "micro.drop(drop_col,axis=1,inplace=True)\"\"\"\n",
    "    \n",
    "X_train,X_test,y_train,y_test=train_test_split(micro,y,test_size=0.25,random_state=30)\n",
    "\n",
    "\n",
    "le=LabelEncoder()\n",
    "for col in cat_list:\n",
    "    le.fit(X_train[col])\n",
    "    X_test[col] = X_test[col].map(lambda s: '<unknown>' if s not in le.classes_ else s)\n",
    "    le.classes_ = np.append(le.classes_, '<unknown>')\n",
    "    X_train[col] = le.transform(X_train[col])\n",
    "    X_test[col] = le.transform(X_test[col])\n",
    "    \n",
    "\n",
    "MScaling=MinMaxScaler()\n",
    "for col in micro.columns:\n",
    "    X_train[col]=MScaling.fit_transform(np.array(X_train[col]).reshape(-1,1))\n",
    "    X_test[col]=MScaling.transform(np.array(X_test[col]).reshape(-1,1))\n",
    "\"\"\"\n",
    "SScaling=StandardScaler()\n",
    "for col in micro.columns:\n",
    "    X_train[col]=SScaling.fit_transform(np.array(X_train[col]).reshape(-1,1))\n",
    "    X_test[col]=SScaling.transform(np.array(X_test[col]).reshape(-1,1))\n",
    "\"\"\"\n",
    "\n",
    "#LogisticRegression model \n",
    "\n",
    "log_reg=RandomForestClassifier()\n",
    "log_reg.fit(X_train,y_train)\n",
    "log_reg.predict(X_test)\n",
    "\n",
    "\n",
    "print(f'confussion matrix =\\n {confusion_matrix(y_test,log_reg.predict(X_test))}')\n",
    "\n",
    "print(f'f1_score = {f1_score(y_test,log_reg.predict(X_test))}')\n",
    "\n",
    "y_pre_pro=log_reg.predict_proba(X_test)[::,1]\n",
    "\n",
    "fpr,tpr,threshold=roc_curve(y_test,y_pre_pro)\n",
    "auc_score=auc(fpr,tpr)\n",
    "auc_score"
   ]
  },
  {
   "cell_type": "code",
   "execution_count": 2,
   "metadata": {},
   "outputs": [
    {
     "name": "stdout",
     "output_type": "stream",
     "text": [
      "confussion matrix =\n",
      " [[3171 2970]\n",
      " [1934 4425]]\n",
      "Decision_class.score= 0.6107896210565615\n",
      "f1_score = 0.643449178420823\n"
     ]
    },
    {
     "data": {
      "text/plain": [
       "0.6399308932849439"
      ]
     },
     "execution_count": 2,
     "metadata": {},
     "output_type": "execute_result"
    }
   ],
   "source": [
    "#decision model\n",
    "\n",
    "from sklearn.tree import DecisionTreeClassifier\n",
    "\n",
    "Decision_class=DecisionTreeClassifier(max_depth=8,min_samples_split= 8,min_samples_leaf = 8,max_leaf_nodes= 5,criterion='gini')\n",
    "Decision_class.fit(X_train,y_train)\n",
    "Decision_class.predict(X_test)\n",
    "\n",
    "\n",
    "\n",
    "print(f'confussion matrix =\\n {confusion_matrix(y_test,Decision_class.predict(X_test))}')\n",
    "\n",
    "\n",
    "print(f'Decision_class.score= {Decision_class.score(X_train,y_train)}')\n",
    "\n",
    "\n",
    "print(f'f1_score = {f1_score(y_test,Decision_class.predict(X_test))}')\n",
    "\n",
    "y_decesion_pro=pd.DataFrame(Decision_class.predict_proba(X_test)[::1])\n",
    "\n",
    "fpr,tpr,threshold=roc_curve(y_test,y_decesion_pro[1])\n",
    "auc_score_decesion=auc(fpr,tpr)\n",
    "auc_score_decesion"
   ]
  },
  {
   "cell_type": "code",
   "execution_count": 3,
   "metadata": {},
   "outputs": [
    {
     "data": {
      "text/plain": [
       "{'min_samples_split': 9,\n",
       " 'min_samples_leaf': 6,\n",
       " 'max_leaf_nodes': 10,\n",
       " 'max_depth': 9,\n",
       " 'criterion': 'gini'}"
      ]
     },
     "execution_count": 3,
     "metadata": {},
     "output_type": "execute_result"
    }
   ],
   "source": [
    "from sklearn.model_selection import RandomizedSearchCV\n",
    "\n",
    "#parameters tuning for DecisionTreeClassifier\n",
    "\n",
    "Param_dict_RSC = {\n",
    "'max_depth':[4,5,6,7,8,9,10],\n",
    "'min_samples_split':[2,3,4,5,6,7,8,9,10],\n",
    "'min_samples_leaf':[2,3,4,5,6,7,8,9,10],\n",
    "'max_leaf_nodes':[4,5,6,7,8,9,10],\n",
    "\"criterion\": [\"gini\", \"entropy\"]}\n",
    "\n",
    "rcv_DecisionTree = RandomizedSearchCV(Decision_class,Param_dict_RSC,cv=5,n_iter=15)\n",
    "rcv_DecisionTree.fit(X_train,y_train)\n",
    "rcv_DecisionTree.best_params_"
   ]
  },
  {
   "cell_type": "code",
   "execution_count": 4,
   "metadata": {},
   "outputs": [
    {
     "name": "stdout",
     "output_type": "stream",
     "text": [
      "confussion matrix =\n",
      " [[3583 2558]\n",
      " [2279 4080]]\n",
      "RandomForest.score= 0.6206832182191525\n",
      "f1_score = 0.6278371931984303\n",
      "precision_score = 0.6146429647484182\n"
     ]
    }
   ],
   "source": [
    "from sklearn.ensemble import RandomForestClassifier\n",
    "\n",
    "RandomForest=RandomForestClassifier(n_estimators=70,min_samples_split=8,min_samples_leaf=5,max_leaf_nodes=8,max_features=3,max_depth=5)\n",
    "\n",
    "RandomForest.fit(X_train,y_train)\n",
    "RandomForest.predict(X_test)\n",
    "\n",
    "\n",
    "print(f'confussion matrix =\\n {confusion_matrix(y_test,RandomForest.predict(X_test))}')\n",
    "print(f'RandomForest.score= {RandomForest.score(X_train,y_train)}')\n",
    "print(f'f1_score = {f1_score(y_test,RandomForest.predict(X_test))}')\n",
    "print(f'precision_score = {precision_score(y_test,RandomForest.predict(X_test))}')\n"
   ]
  },
  {
   "cell_type": "code",
   "execution_count": 5,
   "metadata": {},
   "outputs": [
    {
     "data": {
      "text/plain": [
       "{'n_estimators': 80,\n",
       " 'min_samples_split': 3,\n",
       " 'min_samples_leaf': 5,\n",
       " 'max_leaf_nodes': 10,\n",
       " 'max_features': 3,\n",
       " 'max_depth': 8}"
      ]
     },
     "execution_count": 5,
     "metadata": {},
     "output_type": "execute_result"
    }
   ],
   "source": [
    "#parameters tuning for RandomForestClassifier\n",
    "\n",
    "parameters_Random={'n_estimators':[70,80,100],\n",
    "                   'max_depth':[5,6,7,8], \n",
    "                   \"min_samples_split\":[2,3,4,5,6,7,8,9,10], \n",
    "                   'min_samples_leaf':[2,3,4,5,6,7,8,9,10], \n",
    "                   'max_features':['auto','log2',3,4,5], \n",
    "                   'max_leaf_nodes':[4,5,6,7,8,9,10]}\n",
    "\n",
    "rcv_RandomForestClassifier=RandomizedSearchCV(RandomForest,parameters_Random,cv=5,n_iter=15)\n",
    "rcv_RandomForestClassifier.fit(X_train,y_train)\n",
    "rcv_RandomForestClassifier.best_params_"
   ]
  },
  {
   "cell_type": "code",
   "execution_count": 10,
   "metadata": {},
   "outputs": [
    {
     "name": "stdout",
     "output_type": "stream",
     "text": [
      "confussion matrix =\n",
      " [[3859 2282]\n",
      " [2440 3919]]\n",
      "RandomForest.score= 0.6408170884556922\n",
      "0.62224\n",
      "f1_score = 0.6240445859872611\n",
      "precision_score = 0.6319948395420093\n"
     ]
    }
   ],
   "source": [
    "from sklearn.ensemble import GradientBoostingClassifier\n",
    "\n",
    "GBC=GradientBoostingClassifier(learning_rate=0.075,min_samples_split=4,\n",
    "                                max_depth=5,min_samples_leaf=8,max_features=5,max_leaf_nodes=9)\n",
    "\n",
    "GBC.fit(X_train,y_train)\n",
    "GBC.predict(X_test)\n",
    "\n",
    "\n",
    "print(f'confussion matrix =\\n {confusion_matrix(y_test,GBC.predict(X_test))}')\n",
    "print(f'RandomForest.score= {GBC.score(X_train,y_train)}')\n",
    "print(accuracy_score(y_test,GBC.predict(X_test)))\n",
    "print(f'f1_score = {f1_score(y_test,GBC.predict(X_test))}')\n",
    "print(f'precision_score = {precision_score(y_test,GBC.predict(X_test))}')\n",
    "\n"
   ]
  },
  {
   "cell_type": "code",
   "execution_count": 7,
   "metadata": {},
   "outputs": [
    {
     "data": {
      "text/plain": [
       "{'min_samples_split': 3,\n",
       " 'min_samples_leaf': 7,\n",
       " 'max_leaf_nodes': 8,\n",
       " 'max_features': 'log2',\n",
       " 'max_depth': 6,\n",
       " 'learning_rate': 0.1}"
      ]
     },
     "execution_count": 7,
     "metadata": {},
     "output_type": "execute_result"
    }
   ],
   "source": [
    "from sklearn.model_selection import RandomizedSearchCV\n",
    "parameters_Random_gra={'learning_rate':[0.05,0.075,0.1,0.125],\n",
    "                   'max_depth':[5,6,7,8], \n",
    "                   \"min_samples_split\":[2,3,4,5,6,7,8,9,10], \n",
    "                   'min_samples_leaf':[2,3,4,5,6,7,8,9,10], \n",
    "                   'max_features':['auto','log2',3,4,5], \n",
    "                   'max_leaf_nodes':[4,5,6,7,8,9,10]}\n",
    "\n",
    "rcv_GradientBoostingClassifier=RandomizedSearchCV(GBC,parameters_Random_gra,cv=5,n_iter=15)\n",
    "rcv_GradientBoostingClassifier.fit(X_train,y_train)\n",
    "rcv_GradientBoostingClassifier.best_params_"
   ]
  }
 ],
 "metadata": {
  "kernelspec": {
   "display_name": "Python 3",
   "language": "python",
   "name": "python3"
  },
  "language_info": {
   "codemirror_mode": {
    "name": "ipython",
    "version": 3
   },
   "file_extension": ".py",
   "mimetype": "text/x-python",
   "name": "python",
   "nbconvert_exporter": "python",
   "pygments_lexer": "ipython3",
   "version": "3.7.4"
  }
 },
 "nbformat": 4,
 "nbformat_minor": 2
}

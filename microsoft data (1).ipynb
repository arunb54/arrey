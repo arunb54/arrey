{
 "cells": [
  {
   "cell_type": "code",
   "execution_count": 3,
   "metadata": {},
   "outputs": [
    {
     "ename": "NameError",
     "evalue": "name 'df_train' is not defined",
     "output_type": "error",
     "traceback": [
      "\u001b[1;31m---------------------------------------------------------------------------\u001b[0m",
      "\u001b[1;31mNameError\u001b[0m                                 Traceback (most recent call last)",
      "\u001b[1;32m<ipython-input-3-98903c73327b>\u001b[0m in \u001b[0;36m<module>\u001b[1;34m\u001b[0m\n\u001b[0;32m     23\u001b[0m \u001b[0mmicro\u001b[0m\u001b[1;33m.\u001b[0m\u001b[0mdrop\u001b[0m\u001b[1;33m(\u001b[0m\u001b[1;34m'HasDetections'\u001b[0m\u001b[1;33m,\u001b[0m\u001b[0maxis\u001b[0m\u001b[1;33m=\u001b[0m\u001b[1;36m1\u001b[0m\u001b[1;33m,\u001b[0m\u001b[0minplace\u001b[0m\u001b[1;33m=\u001b[0m\u001b[1;32mTrue\u001b[0m\u001b[1;33m)\u001b[0m\u001b[1;33m\u001b[0m\u001b[1;33m\u001b[0m\u001b[0m\n\u001b[0;32m     24\u001b[0m \u001b[1;33m\u001b[0m\u001b[0m\n\u001b[1;32m---> 25\u001b[1;33m \u001b[0mX\u001b[0m \u001b[1;33m=\u001b[0m \u001b[0mdf_train\u001b[0m\u001b[1;33m[\u001b[0m\u001b[0mlabels\u001b[0m\u001b[1;33m]\u001b[0m\u001b[1;33m\u001b[0m\u001b[1;33m\u001b[0m\u001b[0m\n\u001b[0m\u001b[0;32m     26\u001b[0m \u001b[0my\u001b[0m \u001b[1;33m=\u001b[0m \u001b[0mdf_train\u001b[0m\u001b[1;33m[\u001b[0m\u001b[1;34m'target'\u001b[0m\u001b[1;33m]\u001b[0m\u001b[1;33m\u001b[0m\u001b[1;33m\u001b[0m\u001b[0m\n\u001b[0;32m     27\u001b[0m \u001b[1;33m\u001b[0m\u001b[0m\n",
      "\u001b[1;31mNameError\u001b[0m: name 'df_train' is not defined"
     ]
    }
   ],
   "source": [
    "import pandas as pd\n",
    "import warnings\n",
    "warnings.simplefilter('ignore')\n",
    "from sklearn.model_selection import train_test_split\n",
    "from sklearn.preprocessing import LabelEncoder,OneHotEncoder\n",
    "from sklearn.preprocessing import MinMaxScaler,StandardScaler\n",
    "import numpy as np\n",
    "from sklearn.linear_model import LogisticRegression\n",
    "from sklearn.metrics import confusion_matrix,f1_score,precision_score,accuracy_score\n",
    "from sklearn.metrics import roc_curve\n",
    "import matplotlib.pyplot as plt\n",
    "\n",
    "micro=pd.read_csv('Microsoft_Data.csv')\n",
    "\n",
    "labels = micro.columns[2:]\n",
    "\n",
    "micro.drop(columns=['MachineIdentifier',\"OsBuildLab\"],axis=1,inplace=True)\n",
    "for col in micro.columns:\n",
    "    if micro[col].isnull().sum() > 40000:\n",
    "        micro.drop(col,axis=1,inplace=True)\n",
    "\n",
    "y=micro['HasDetections']\n",
    "micro.drop('HasDetections',axis=1,inplace=True)\n",
    "\n",
    "X = df_train[labels]\n",
    "y = df_train['target']\n",
    "\n",
    "micro_dtypes={'object':[col for col in micro.columns if micro[col].dtype =='object'],'int or float':[col for col in micro.columns if micro[col].dtype =='float64']}\n",
    "\n",
    "for col in micro_dtypes['object']:\n",
    "    micro[col].fillna(value=micro[col].mode()[0],inplace=True)\n",
    "    \n",
    "for col in micro_dtypes['int or float']:\n",
    "    micro[col].fillna(value=micro[col].mean(),inplace=True)\n",
    "\n",
    "\n",
    "\n",
    "\n",
    "X_train,X_test,y_train,y_test=train_test_split(micro,y,test_size=0.25,random_state=30)\n",
    "\n",
    "le=LabelEncoder()\n",
    "for col in micro_dtypes['object']:\n",
    "    le.fit(X_train[col])\n",
    "    X_test[col] = X_test[col].map(lambda s: '<unknown>' if s not in le.classes_ else s)\n",
    "    le.classes_ = np.append(le.classes_, '<unknown>')\n",
    "    X_train[col] = le.transform(X_train[col])\n",
    "    X_test[col] = le.transform(X_test[col])\n",
    "    \n",
    "\n",
    "MScaling=MinMaxScaler()\n",
    "for col in micro_dtypes['int or float']:\n",
    "    X_train[col]=MScaling.fit_transform(np.array(X_train[col]).reshape(-1,1))\n",
    "    X_test[col]=MScaling.transform(np.array(X_test[col]).reshape(-1,1))\n",
    "\n",
    "\"\"\"SScaling=StandardScaler()\n",
    "for col in micro_dtypes['int or float']:\n",
    "    X_train[col]=SScaling.fit_transform(np.array(X_train[col]).reshape(-1,1))\n",
    "    X_test[col]=SScaling.transform(np.array(X_test[col]).reshape(-1,1))\"\"\"\n",
    "\n",
    "#LogisticRegression model \n",
    "\n",
    "log_reg=LogisticRegression()\n",
    "log_reg.fit(X_train,y_train)\n",
    "log_reg.predict(X_test)\n",
    "\n",
    "\n",
    "print(f'confussion matrix =\\n {confusion_matrix(y_test,log_reg.predict(X_test))}')\n",
    "\n",
    "\n",
    "print(f'f1_score = {f1_score(y_test,log_reg.predict(X_test))}')\n",
    "\n",
    "\n",
    "print(f'precision_score = {precision_score(y_test,log_reg.predict(X_test))}')\n",
    "\n",
    "\n",
    "print(f'accuracy_score = {accuracy_score (y_test,log_reg.predict(X_test))}')\n",
    "\n",
    "y_pre_pro=log_reg.predict_proba(X_test)[::,1]\n",
    "\n",
    "fpr,tpr,threshold=roc_curve(y_test,y_pre_pro)\n",
    "plt.plot(fpr,tpr)\n",
    "plt.xlabel('fpr')\n",
    "plt.ylabel('tpr')\n",
    "plt.title('roc_auc_score')\n",
    "micro\n"
   ]
  },
  {
   "cell_type": "code",
   "execution_count": 19,
   "metadata": {},
   "outputs": [
    {
     "data": {
      "text/plain": [
       "(56528, 0)"
      ]
     },
     "execution_count": 19,
     "metadata": {},
     "output_type": "execute_result"
    }
   ],
   "source": [
    "micro.shape"
   ]
  },
  {
   "cell_type": "code",
   "execution_count": 13,
   "metadata": {},
   "outputs": [
    {
     "ename": "NameError",
     "evalue": "name 'X_train' is not defined",
     "output_type": "error",
     "traceback": [
      "\u001b[1;31m---------------------------------------------------------------------------\u001b[0m",
      "\u001b[1;31mNameError\u001b[0m                                 Traceback (most recent call last)",
      "\u001b[1;32m<ipython-input-13-9ee7baccd65e>\u001b[0m in \u001b[0;36m<module>\u001b[1;34m\u001b[0m\n\u001b[0;32m      4\u001b[0m \u001b[1;33m\u001b[0m\u001b[0m\n\u001b[0;32m      5\u001b[0m \u001b[0mDecision_class\u001b[0m\u001b[1;33m=\u001b[0m\u001b[0mDecisionTreeClassifier\u001b[0m\u001b[1;33m(\u001b[0m\u001b[0mmin_samples_split\u001b[0m\u001b[1;33m=\u001b[0m \u001b[1;36m9\u001b[0m\u001b[1;33m,\u001b[0m\u001b[0mmin_samples_leaf\u001b[0m \u001b[1;33m=\u001b[0m \u001b[1;36m10\u001b[0m\u001b[1;33m,\u001b[0m\u001b[0mmax_leaf_nodes\u001b[0m\u001b[1;33m=\u001b[0m \u001b[1;36m8\u001b[0m\u001b[1;33m,\u001b[0m\u001b[0mmax_depth\u001b[0m\u001b[1;33m=\u001b[0m\u001b[1;36m8\u001b[0m\u001b[1;33m,\u001b[0m\u001b[0mcriterion\u001b[0m\u001b[1;33m=\u001b[0m\u001b[1;34m'entropy'\u001b[0m\u001b[1;33m)\u001b[0m\u001b[1;33m\u001b[0m\u001b[1;33m\u001b[0m\u001b[0m\n\u001b[1;32m----> 6\u001b[1;33m \u001b[0mDecision_class\u001b[0m\u001b[1;33m.\u001b[0m\u001b[0mfit\u001b[0m\u001b[1;33m(\u001b[0m\u001b[0mX_train\u001b[0m\u001b[1;33m,\u001b[0m\u001b[0my_train\u001b[0m\u001b[1;33m)\u001b[0m\u001b[1;33m\u001b[0m\u001b[1;33m\u001b[0m\u001b[0m\n\u001b[0m\u001b[0;32m      7\u001b[0m \u001b[0mDecision_class\u001b[0m\u001b[1;33m.\u001b[0m\u001b[0mpredict\u001b[0m\u001b[1;33m(\u001b[0m\u001b[0mX_test\u001b[0m\u001b[1;33m)\u001b[0m\u001b[1;33m\u001b[0m\u001b[1;33m\u001b[0m\u001b[0m\n\u001b[0;32m      8\u001b[0m \u001b[1;33m\u001b[0m\u001b[0m\n",
      "\u001b[1;31mNameError\u001b[0m: name 'X_train' is not defined"
     ]
    }
   ],
   "source": [
    "#decision model\n",
    "\n",
    "from sklearn.tree import DecisionTreeClassifier\n",
    "\n",
    "Decision_class=DecisionTreeClassifier(min_samples_split= 9,min_samples_leaf = 10,max_leaf_nodes= 8,max_depth=8,criterion='entropy')\n",
    "Decision_class.fit(X_train,y_train)\n",
    "Decision_class.predict(X_test)\n",
    "\n",
    "\n",
    "\n",
    "print(f'confussion matrix =\\n {confusion_matrix(y_test,Decision_class.predict(X_test))}')\n",
    "\n",
    "\n",
    "print(f'Decision_class.score= {Decision_class.score(X_train,y_train)}')\n",
    "\n",
    "\n",
    "print(f'f1_score = {f1_score(y_test,Decision_class.predict(X_test))}')\n",
    "\n",
    "\n",
    "print(f'precision_score = {precision_score(y_test,Decision_class.predict(X_test))}')\n",
    "\n",
    "\n",
    "print(f'accuracy_score = {accuracy_score (y_test,Decision_class.predict(X_test))}')\n"
   ]
  },
  {
   "cell_type": "code",
   "execution_count": 82,
   "metadata": {},
   "outputs": [
    {
     "data": {
      "text/plain": [
       "{'min_samples_split': 10,\n",
       " 'min_samples_leaf': 9,\n",
       " 'max_leaf_nodes': 8,\n",
       " 'max_depth': 8,\n",
       " 'criterion': 'gini'}"
      ]
     },
     "execution_count": 82,
     "metadata": {},
     "output_type": "execute_result"
    }
   ],
   "source": [
    "from sklearn.model_selection import RandomizedSearchCV\n",
    "\n",
    "#parameters tuning for DecisionTreeClassifier\n",
    "\n",
    "Param_dict_RSC = {\n",
    "'max_depth':[4,5,6,7,8,9,10],\n",
    "'min_samples_split':[2,3,4,5,6,7,8,9,10],\n",
    "'min_samples_leaf':[2,3,4,5,6,7,8,9,10],\n",
    "'max_leaf_nodes':[4,5,6,7,8,9,10],\n",
    "\"criterion\": [\"gini\", \"entropy\"]}\n",
    "\n",
    "rcv=RandomizedSearchCV(Decision_class,Param_dict_RSC,cv=5,n_iter=15)\n",
    "rcv.fit(X_train,y_train)\n",
    "rcv.best_params_"
   ]
  },
  {
   "cell_type": "code",
   "execution_count": 13,
   "metadata": {},
   "outputs": [
    {
     "name": "stdout",
     "output_type": "stream",
     "text": [
      "confussion matrix =\n",
      " [[1666  807]\n",
      " [1289 1238]]\n",
      "RandomForest.score= 0.9838655910394026\n",
      "f1_score = 0.5415573053368328\n",
      "precision_score = 0.6053789731051344\n"
     ]
    }
   ],
   "source": [
    "from sklearn.ensemble import RandomForestClassifier\n",
    "\n",
    "RandomForest=RandomForestClassifier()\n",
    "\n",
    "RandomForest.fit(X_train,y_train)\n",
    "RandomForest.predict(X_test)\n",
    "\n",
    "\n",
    "print(f'confussion matrix =\\n {confusion_matrix(y_test,RandomForest.predict(X_test))}')\n",
    "print(f'RandomForest.score= {RandomForest.score(X_train,y_train)}')\n",
    "print(f'f1_score = {f1_score(y_test,RandomForest.predict(X_test))}')\n",
    "print(f'precision_score = {precision_score(y_test,RandomForest.predict(X_test))}')"
   ]
  },
  {
   "cell_type": "code",
   "execution_count": null,
   "metadata": {},
   "outputs": [],
   "source": [
    "from sklearn.model_selection import RandomizedSearchCV\n",
    "\n",
    "#parameters tuning for RandomForestClassifier\n",
    "\n",
    "Param_dict_RSC = {\n",
    "'max_depth':[4,5,6,7,8,9,10],\n",
    "'min_samples_split':[2,3,4,5,6,7,8,9,10],\n",
    "'min_samples_leaf':[2,3,4,5,6,7,8,9,10],\n",
    "'max_leaf_nodes':[4,5,6,7,8,9,10],\n",
    "\"criterion\": [\"gini\", \"entropy\"]}\n",
    "\n",
    "rcv=RandomizedSearchCV(Decision_class,Param_dict_RSC,cv=5,n_iter=15)\n",
    "rcv.fit(X_train,y_train)\n",
    "rcv.best_params_"
   ]
  },
  {
   "cell_type": "code",
   "execution_count": 10,
   "metadata": {},
   "outputs": [
    {
     "name": "stdout",
     "output_type": "stream",
     "text": [
      "confussion matrix =\n",
      " [[1791 2508]\n",
      " [1499 2814]]\n",
      "f1_score = 0.5841203943954333\n",
      "precision_score = 0.5287485907553551\n",
      "accuracy_score = 0.5347189967487227\n"
     ]
    },
    {
     "data": {
      "image/png": "[encoded data removed]",
      "text/plain": [
       "<Figure size 432x288 with 1 Axes>"
      ]
     },
     "metadata": {
      "needs_background": "light"
     },
     "output_type": "display_data"
    }
   ],
   "source": [
    "from sklearn.decomposition import PCA\n",
    "pca=PCA()\n",
    "pca.fit_transform(X_train)\n",
    "plt.plot(np.cumsum(pca.explained_variance_ratio_))\n",
    "\n",
    "\n",
    "X_train_df=pd.DataFrame(pca.fit_transform(X_train),columns=[X_train.columns])\n",
    "X_train_df.drop(X_train_df.iloc[:,-65:],axis=1,inplace=True)\n",
    "X_test_df=pd.DataFrame(pca.transform(X_test),columns=[X_test.columns])\n",
    "X_test_df.drop(X_test_df.iloc[:,-65:],axis=1,inplace=True)\n",
    "\n",
    "\n",
    "log_pca=LogisticRegression()\n",
    "log_pca.fit(X_train_df,y_train)\n",
    "log_pca.predict(X_test_df)\n",
    "\n",
    "confussion_pca=confusion_matrix(y_test,log_pca.predict(X_test_df))\n",
    "print(f'confussion matrix =\\n {confussion_pca}')\n",
    "\n",
    "f1_pca=f1_score(y_test,log_pca.predict(X_test_df))\n",
    "print(f'f1_score = {f1_pca}')\n",
    "\n",
    "precision_pca=precision_score(y_test,log_pca.predict(X_test_df))\n",
    "print(f'precision_score = {precision_pca}')\n",
    "\n",
    "accuracy_pca=accuracy_score (y_test,log_pca.predict(X_test_df))\n",
    "print(f'accuracy_score = {accuracy_pca}')\n"
   ]
  },
  {
   "cell_type": "code",
   "execution_count": 11,
   "metadata": {},
   "outputs": [
    {
     "name": "stdout",
     "output_type": "stream",
     "text": [
      "confussion matrix =\n",
      " [[1385 2914]\n",
      " [1104 3209]]\n",
      "f1_score = 0.6149865848984285\n",
      "precision_score = 0.5240894986117917\n",
      "accuracy_score = 0.5334417092429169\n"
     ]
    }
   ],
   "source": [
    "from sklearn.naive_bayes import GaussianNB,MultinomialNB\n",
    "\n",
    "gaussian=GaussianNB()\n",
    "gaussian.fit(X_train_df,y_train)\n",
    "gaussian.predict(X_test_df)\n",
    "\n",
    "confussion_pca=confusion_matrix(y_test,gaussian.predict(X_test_df))\n",
    "print(f'confussion matrix =\\n {confussion_pca}')\n",
    "\n",
    "f1_gnb=f1_score(y_test,gaussian.predict(X_test_df))\n",
    "print(f'f1_score = {f1_gnb}')\n",
    "\n",
    "precision_gnb=precision_score(y_test,gaussian.predict(X_test_df))\n",
    "print(f'precision_score = {precision_gnb}')\n",
    "\n",
    "accuracy_gbn=accuracy_score (y_test,gaussian.predict(X_test_df))\n",
    "print(f'accuracy_score = {accuracy_gbn}')"
   ]
  },
  {
   "cell_type": "code",
   "execution_count": 67,
   "metadata": {},
   "outputs": [
    {
     "data": {
      "text/plain": [
       "range(0, 32)"
      ]
     },
     "execution_count": 67,
     "metadata": {},
     "output_type": "execute_result"
    }
   ],
   "source": [
    "list111=range(32)\n",
    "list111"
   ]
  }
 ],
 "metadata": {
  "kernelspec": {
   "display_name": "Python 3",
   "language": "python",
   "name": "python3"
  },
  "language_info": {
   "codemirror_mode": {
    "name": "ipython",
    "version": 3
   },
   "file_extension": ".py",
   "mimetype": "text/x-python",
   "name": "python",
   "nbconvert_exporter": "python",
   "pygments_lexer": "ipython3",
   "version": "3.7.4"
  }
 },
 "nbformat": 4,
 "nbformat_minor": 2
}
